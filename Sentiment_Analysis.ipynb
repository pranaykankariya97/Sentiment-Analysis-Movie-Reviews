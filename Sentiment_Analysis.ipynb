{
  "nbformat": 4,
  "nbformat_minor": 0,
  "metadata": {
    "colab": {
      "name": "Sentiment_Analysis.ipynb",
      "provenance": [],
      "collapsed_sections": []
    },
    "kernelspec": {
      "name": "python3",
      "display_name": "Python 3"
    }
  },
  "cells": [
    {
      "cell_type": "code",
      "metadata": {
        "id": "SyWuz47ZEIM4",
        "colab_type": "code",
        "colab": {}
      },
      "source": [
        "#Importing Libraries\n",
        "import pandas as pd \n",
        "import numpy as np\n",
        "import re\n",
        "import nltk\n",
        "import pickle\n",
        "from sklearn.feature_extraction.text import CountVectorizer\n",
        "from sklearn.feature_extraction.text import TfidfTransformer\n",
        "from sklearn.feature_extraction.text import TfidfVectorizer\n",
        "from sklearn.linear_model import LogisticRegressionCV\n",
        "from sklearn.model_selection import train_test_split\n",
        "from sklearn.metrics import plot_confusion_matrix,plot_roc_curve,plot_precision_recall_curve,precision_score,recall_score,f1_score\n",
        "from nltk.stem.porter import PorterStemmer\n",
        "from nltk.corpus import stopwords\n",
        "nltk.download('stopwords')"
      ],
      "execution_count": 0,
      "outputs": []
    },
    {
      "cell_type": "code",
      "metadata": {
        "id": "QCbAqIrlEuWx",
        "colab_type": "code",
        "colab": {}
      },
      "source": [
        "#Loading Data\n",
        "data_url = '/content/movie_data.csv'\n",
        "df = pd.read_csv(data_url)\n",
        "np.set_printoptions(precision=2)"
      ],
      "execution_count": 0,
      "outputs": []
    },
    {
      "cell_type": "code",
      "metadata": {
        "id": "MRHjfs3YHm4v",
        "colab_type": "code",
        "colab": {}
      },
      "source": [
        "#Preprocessing Data\n",
        "def preprocessor(text):\n",
        "    text = re.sub('<[^>]*>', '', text)\n",
        "    emoticons = re.findall(r'(?::|;|=)(?:-)?(?:\\)|\\(|D|P)', text)\n",
        "    text = re.sub(r'[\\W]+', ' ', text.lower()) +\\\n",
        "        ' '.join(emoticons).replace('-', '')\n",
        "    return text\n",
        "df['review'] = df['review'].apply(preprocessor)"
      ],
      "execution_count": 0,
      "outputs": []
    },
    {
      "cell_type": "code",
      "metadata": {
        "id": "-uPUXCWbHvpq",
        "colab_type": "code",
        "colab": {}
      },
      "source": [
        "#Tokenizing\n",
        "porter = PorterStemmer()\n",
        "stop = stopwords.words('english')\n",
        "def tokenizer_porter(text):\n",
        "\treturn [porter.stem(word) for word in text.split() if word not in stop ]"
      ],
      "execution_count": 0,
      "outputs": []
    },
    {
      "cell_type": "code",
      "metadata": {
        "id": "XKfqJetDIK0E",
        "colab_type": "code",
        "colab": {}
      },
      "source": [
        "#Transform text data into TF-IDF Vectors\n",
        "tfidf = TfidfVectorizer(strip_accents=None,lowercase=False,preprocessor=None,\n",
        "                        tokenizer=tokenizer_porter,use_idf=True,norm='l2',smooth_idf=True)\n",
        "y = df.sentiment.values\n",
        "x = tfidf.fit_transform(df.review)"
      ],
      "execution_count": 0,
      "outputs": []
    },
    {
      "cell_type": "code",
      "metadata": {
        "id": "Qs6tAOp9KNUj",
        "colab_type": "code",
        "colab": {}
      },
      "source": [
        "#Logistic Regression\n",
        "x_train,x_test,y_train,y_test = train_test_split(x,y,random_state=1,test_size=0.5,shuffle=False)\n",
        "model = LogisticRegressionCV(cv=5,scoring='accuracy',random_state=0,n_jobs=-1,verbose=3,max_iter=300)\n",
        "model.fit(x_train,y_train)\n",
        "saved_model=open('saved_model.sav','wb')\n",
        "pickle.dump(model,saved_model)\n",
        "saved_model.close()"
      ],
      "execution_count": 0,
      "outputs": []
    },
    {
      "cell_type": "code",
      "metadata": {
        "id": "aePQSdg4Li8W",
        "colab_type": "code",
        "colab": {}
      },
      "source": [
        "#Load trained model\n",
        "filename = '/content/saved_model.sav'\n",
        "saved_clf = pickle.load(open(filename,'rb'))"
      ],
      "execution_count": 0,
      "outputs": []
    },
    {
      "cell_type": "code",
      "metadata": {
        "id": "kyHVnRNCMABr",
        "colab_type": "code",
        "colab": {
          "base_uri": "https://localhost:8080/",
          "height": 85
        },
        "outputId": "4d0c4674-d771-48bc-8f04-a387d2db1da3"
      },
      "source": [
        "#Results\n",
        "accuracy = saved_clf.score(x_test,y_test).round(3)\n",
        "y_pred = saved_clf.predict(x_test)\n",
        "precision = precision_score(y_test,y_pred).round(3)\n",
        "recall = recall_score(y_test,y_pred).round(3)\n",
        "f_score = (2*precision*recall/(precision+recall)).round(3)\n",
        "print(\"Accuracy: \",accuracy)\n",
        "print(\"Precion: \",precision)\n",
        "print(\"Recall: \",recall)\n",
        "print(\"F1-Score: \",f_score)\n"
      ],
      "execution_count": 43,
      "outputs": [
        {
          "output_type": "stream",
          "text": [
            "Accuracy:  0.895\n",
            "Precion:  0.889\n",
            "Recall:  0.902\n",
            "F1-Score:  0.895\n"
          ],
          "name": "stdout"
        }
      ]
    },
    {
      "cell_type": "code",
      "metadata": {
        "id": "ekTpRsx7OqZR",
        "colab_type": "code",
        "colab": {
          "base_uri": "https://localhost:8080/",
          "height": 296
        },
        "outputId": "f8482049-36ab-490c-e08a-a55f4b0236fe"
      },
      "source": [
        "#Confusion Matrix\n",
        "plot_confusion_matrix(saved_clf,x_test,y_test)"
      ],
      "execution_count": 24,
      "outputs": [
        {
          "output_type": "execute_result",
          "data": {
            "text/plain": [
              "<sklearn.metrics._plot.confusion_matrix.ConfusionMatrixDisplay at 0x7fedab93eeb8>"
            ]
          },
          "metadata": {
            "tags": []
          },
          "execution_count": 24
        },
        {
          "output_type": "display_data",
          "data": {
            "image/png": "[encoded data removed]",
            "text/plain": [
              "<Figure size 432x288 with 2 Axes>"
            ]
          },
          "metadata": {
            "tags": [],
            "needs_background": "light"
          }
        }
      ]
    },
    {
      "cell_type": "code",
      "metadata": {
        "id": "DB1e2jGDOvQo",
        "colab_type": "code",
        "colab": {
          "base_uri": "https://localhost:8080/",
          "height": 296
        },
        "outputId": "6ee25426-f7fe-49bd-eb7e-47ed380888b0"
      },
      "source": [
        "#ROC Curve\n",
        "plot_roc_curve(saved_clf,x_test,y_test)"
      ],
      "execution_count": 25,
      "outputs": [
        {
          "output_type": "execute_result",
          "data": {
            "text/plain": [
              "<sklearn.metrics._plot.roc_curve.RocCurveDisplay at 0x7fedab93e4a8>"
            ]
          },
          "metadata": {
            "tags": []
          },
          "execution_count": 25
        },
        {
          "output_type": "display_data",
          "data": {
            "image/png": "[encoded data removed]",
            "text/plain": [
              "<Figure size 432x288 with 1 Axes>"
            ]
          },
          "metadata": {
            "tags": [],
            "needs_background": "light"
          }
        }
      ]
    },
    {
      "cell_type": "code",
      "metadata": {
        "id": "yda31GWLO1-h",
        "colab_type": "code",
        "colab": {
          "base_uri": "https://localhost:8080/",
          "height": 296
        },
        "outputId": "893751bd-5d46-42e4-b1ed-db715bf8c735"
      },
      "source": [
        "#Precion-Recall Curve\n",
        "plot_precision_recall_curve(saved_clf,x_test,y_test)"
      ],
      "execution_count": 26,
      "outputs": [
        {
          "output_type": "execute_result",
          "data": {
            "text/plain": [
              "<sklearn.metrics._plot.precision_recall_curve.PrecisionRecallDisplay at 0x7fedab83a240>"
            ]
          },
          "metadata": {
            "tags": []
          },
          "execution_count": 26
        },
        {
          "output_type": "display_data",
          "data": {
            "image/png": "[encoded data removed]",
            "text/plain": [
              "<Figure size 432x288 with 1 Axes>"
            ]
          },
          "metadata": {
            "tags": [],
            "needs_background": "light"
          }
        }
      ]
    }
  ]
}